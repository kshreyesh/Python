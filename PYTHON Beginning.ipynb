{
 "cells": [
  {
   "cell_type": "code",
   "execution_count": 4,
   "metadata": {},
   "outputs": [
    {
     "name": "stdout",
     "output_type": "stream",
     "text": [
      "shreyesh\n"
     ]
    }
   ],
   "source": [
    "print ('shreyesh')"
   ]
  },
  {
   "cell_type": "code",
   "execution_count": 1,
   "metadata": {},
   "outputs": [
    {
     "name": "stdout",
     "output_type": "stream",
     "text": [
      "*\n",
      "**\n",
      "***\n",
      "****\n",
      "*****\n",
      "******\n",
      "*******\n",
      "********\n",
      "*********\n",
      "**********\n"
     ]
    }
   ],
   "source": [
    "a=1\n",
    "while a<=10:\n",
    "    print('*'*a)\n",
    "    a+=1"
   ]
  },
  {
   "cell_type": "code",
   "execution_count": 5,
   "metadata": {},
   "outputs": [
    {
     "name": "stdout",
     "output_type": "stream",
     "text": [
      "john smith\n",
      "20\n"
     ]
    }
   ],
   "source": [
    "name = input()\n",
    "age = input()\n",
    "is_new = True"
   ]
  },
  {
   "cell_type": "code",
   "execution_count": 7,
   "metadata": {},
   "outputs": [
    {
     "name": "stdout",
     "output_type": "stream",
     "text": [
      "what is your name shreyesh\n",
      "what is your Fav. colour blue\n",
      "shreyesh likes blue\n"
     ]
    }
   ],
   "source": [
    "name=input('what is your name: ')\n",
    "col=input('what is your Fav. colour: ')\n",
    "print (name+' likes '+col)"
   ]
  },
  {
   "cell_type": "code",
   "execution_count": 19,
   "metadata": {},
   "outputs": [
    {
     "name": "stdout",
     "output_type": "stream",
     "text": [
      "weight LBS : 50\n",
      "22.5  Kg\n"
     ]
    }
   ],
   "source": [
    "lbs=int(input('weight LBS : '))\n",
    "kg=lbs*0.45\n",
    "print(kg ,' Kg')"
   ]
  },
  {
   "cell_type": "code",
   "execution_count": 1,
   "metadata": {},
   "outputs": [
    {
     "name": "stdout",
     "output_type": "stream",
     "text": [
      "shreyesh kumar is a coder\n"
     ]
    }
   ],
   "source": [
    "n='shreyesh'\n",
    "t='kumar'\n",
    "msg=f'{n} {t} is a coder'\n",
    "print(msg)"
   ]
  },
  {
   "cell_type": "code",
   "execution_count": 7,
   "metadata": {},
   "outputs": [
    {
     "name": "stdout",
     "output_type": "stream",
     "text": [
      "shreyesh\n",
      "8\n"
     ]
    }
   ],
   "source": [
    "n= input()\n",
    "count = 0\n",
    "for i in n:\n",
    "    count+= 1\n",
    "print (count)"
   ]
  },
  {
   "cell_type": "code",
   "execution_count": 8,
   "metadata": {},
   "outputs": [
    {
     "name": "stdout",
     "output_type": "stream",
     "text": [
      "-4\n",
      "4.3\n"
     ]
    }
   ],
   "source": [
    "x=-4.3\n",
    "print(round(x))\n",
    "print(abs(x))"
   ]
  },
  {
   "cell_type": "code",
   "execution_count": 26,
   "metadata": {},
   "outputs": [
    {
     "name": "stdout",
     "output_type": "stream",
     "text": [
      "weight: 160\n",
      "lbs(l) OR kg(k) : \n",
      "l\n",
      "you are 72.0 Killos\n"
     ]
    }
   ],
   "source": [
    "weight=int(input('weight: '))\n",
    "print('lbs(l) OR kg(k) : ')\n",
    "unit=(input())\n",
    "if unit== 'l':\n",
    "    weight*=0.45\n",
    "    print (f'you are {weight} Killos' )\n",
    "else:\n",
    "    weight/=0.45\n",
    "    print (f'you are {weight} Pounds' )\n",
    "    "
   ]
  },
  {
   "cell_type": "code",
   "execution_count": 2,
   "metadata": {},
   "outputs": [
    {
     "name": "stdout",
     "output_type": "stream",
     "text": [
      "9\n",
      "guess: 9\n",
      "you win!\n"
     ]
    }
   ],
   "source": [
    "num=int(input())\n",
    "guess_count=0\n",
    "limit=3\n",
    "while guess_count<limit:\n",
    "    guess=int(input('guess: '))\n",
    "    guess_count+=1\n",
    "    if(guess==num):\n",
    "        print ('you won!')\n",
    "        break\n",
    "else:\n",
    "    print('Booo!')"
   ]
  },
  {
   "cell_type": "code",
   "execution_count": 1,
   "metadata": {},
   "outputs": [
    {
     "name": "stdout",
     "output_type": "stream",
     "text": [
      "54321\n",
      "4321\n",
      "321\n",
      "21\n",
      "1\n"
     ]
    }
   ],
   "source": [
    "for x in range(5,0,-1):\n",
    "    for y in range(x,0,-1):\n",
    "        print(y,end='')\n",
    "    else:\n",
    "        print()"
   ]
  },
  {
   "cell_type": "code",
   "execution_count": 5,
   "metadata": {},
   "outputs": [
    {
     "name": "stdout",
     "output_type": "stream",
     "text": [
      ">>  start\n",
      "CAR STARTRED--\n",
      ">>  stop\n",
      "CAR STOPPED--\n",
      ">>  stop\n",
      "Car is Already Stopped\n",
      ">>  quit\n"
     ]
    }
   ],
   "source": [
    "command=\"\"\n",
    "started=False\n",
    "while True:\n",
    "    command=input(\">>  \").lower()\n",
    "    if command == \"start\":\n",
    "        if started:\n",
    "            print('Already Started')\n",
    "        else:\n",
    "            started=True\n",
    "            print (\"CAR STARTRED--\")        \n",
    "    elif command == \"stop\":\n",
    "        if not started:\n",
    "            print('Car is Already Stopped')\n",
    "        else:\n",
    "            started=False\n",
    "            print(\"CAR STOPPED--\")        \n",
    "    elif command == 'help':\n",
    "        print ('''\n",
    "        start - To start thhe CAR\n",
    "        stop  - To stop the CAR\n",
    "        quit  - To QUIT\n",
    "        ''')\n",
    "    elif command ==\"quit\":\n",
    "        break\n",
    "    else:\n",
    "        print (\"I don't Understand that language\")        \n",
    "        "
   ]
  },
  {
   "cell_type": "code",
   "execution_count": 3,
   "metadata": {},
   "outputs": [
    {
     "name": "stdout",
     "output_type": "stream",
     "text": [
      "16\n"
     ]
    }
   ],
   "source": [
    "prices=[2,4,10]\n",
    "total=0\n",
    "for items in prices:\n",
    "    total+=items\n",
    "print(total)"
   ]
  },
  {
   "cell_type": "code",
   "execution_count": 40,
   "metadata": {},
   "outputs": [
    {
     "name": "stdout",
     "output_type": "stream",
     "text": [
      "\n",
      "\n",
      "\n",
      "*\n",
      "*\n",
      "*\n",
      "**\n",
      "**\n",
      "**\n",
      "***\n",
      "***\n",
      "***\n"
     ]
    }
   ],
   "source": [
    " for x in range(4):\n",
    "        for y in range(3):\n",
    "            print(f\"{'*'*x}\")"
   ]
  },
  {
   "cell_type": "code",
   "execution_count": 44,
   "metadata": {},
   "outputs": [
    {
     "name": "stdout",
     "output_type": "stream",
     "text": [
      "1\n",
      "1\n",
      "1\n",
      "1\n",
      "6\n",
      "*\n",
      "*\n",
      "*\n",
      "*\n",
      "******\n"
     ]
    }
   ],
   "source": [
    "a_list = []\n",
    "for i in range(0, 5):\n",
    "    item = int(input())\n",
    "    a_list.append(item)\n",
    "for count in a_list:\n",
    "    print('*'*count)\n",
    "    "
   ]
  },
  {
   "cell_type": "code",
   "execution_count": 3,
   "metadata": {},
   "outputs": [
    {
     "name": "stdout",
     "output_type": "stream",
     "text": [
      "*******\n",
      "     * \n",
      "    *  \n",
      "   *   \n",
      "  *    \n",
      " *     \n",
      "*******\n",
      "\n"
     ]
    }
   ],
   "source": [
    "result=\"\";    \n",
    "for row in range(0,7):    \n",
    "    for column in range(0,7):     \n",
    "        if (((row == 0 or row == 6) and column >= 0 and column <= 6) or row+column==6):  \n",
    "            result=result+\"*\"    \n",
    "        else:      \n",
    "            result=result+\" \"    \n",
    "    result=result+\"\\n\"    \n",
    "print(result);\n"
   ]
  },
  {
   "cell_type": "code",
   "execution_count": 5,
   "metadata": {},
   "outputs": [
    {
     "name": "stdout",
     "output_type": "stream",
     "text": [
      "8\n",
      "* * * * * * * * \n",
      "* *         * * \n",
      "*   *     *   * \n",
      "*     * *     * \n",
      "*     * *     * \n",
      "*   *     *   * \n",
      "* *         * * \n",
      "* * * * * * * * \n"
     ]
    }
   ],
   "source": [
    "totalrowcol=int(input())\n",
    "rowno=1\n",
    "colno=1\n",
    "for i in range(rowno,totalrowcol+1):\n",
    "    for j in range(colno,totalrowcol+1):\n",
    "        if(j==colno or j==totalrowcol or i==rowno or i==totalrowcol or (i==j) or (i+j)==totalrowcol+1):\n",
    "            print('*',end=' ')\n",
    "        else:\n",
    "            print(' ',end=' ')\n",
    "    print()"
   ]
  },
  {
   "cell_type": "code",
   "execution_count": 17,
   "metadata": {},
   "outputs": [
    {
     "name": "stdout",
     "output_type": "stream",
     "text": [
      "456254\n",
      "4, 5, 6, 2, 5, 4\n"
     ]
    }
   ],
   "source": [
    "#Convert a NUMBER to LIST of INTEGERS\n",
    "num=int(input())\n",
    "res=[int(x) for x in str(num)] #/ or res = list(map(int, str(num))) /#\n",
    "print(str(res)[1:-1])"
   ]
  },
  {
   "cell_type": "code",
   "execution_count": 12,
   "metadata": {},
   "outputs": [
    {
     "name": "stdout",
     "output_type": "stream",
     "text": [
      "range: 3\n",
      "125\n",
      "658\n",
      "125\n",
      "[125, 658]\n"
     ]
    }
   ],
   "source": [
    "#REMOVE DUPLICATE VALUES\n",
    "a_list = []\n",
    "unique=[] \n",
    "n=int(input('range: '))\n",
    "for i in range(0,n):\n",
    "    item = int(input())\n",
    "    a_list.append(item)\n",
    "for number in a_list :\n",
    "    if number not in unique:\n",
    "        unique.append(number)\n",
    "print(unique)\n",
    "    "
   ]
  },
  {
   "cell_type": "code",
   "execution_count": 7,
   "metadata": {},
   "outputs": [
    {
     "name": "stdout",
     "output_type": "stream",
     "text": [
      ">>4\n",
      "['4']\n"
     ]
    }
   ],
   "source": [
    "msg=input(\">>\")\n",
    "word=msg.split(' ')\n",
    "print(word)"
   ]
  },
  {
   "cell_type": "code",
   "execution_count": 43,
   "metadata": {},
   "outputs": [
    {
     "name": "stdout",
     "output_type": "stream",
     "text": [
      "enter no of rows :3\n",
      "45\n",
      "78\n",
      "98\n",
      "[(4, 5), (7, 8), (9, 8)]\n",
      "[(5, 4), (8, 7), (8, 9)]\n",
      "1\n"
     ]
    }
   ],
   "source": [
    "#MAXIMUM PAIR DIFFERENCE\n",
    "test_list = list(tuple(map(int, input())) for r in range(int(input('enter no of rows :' ))))\n",
    "print(test_list)\n",
    "og_list = list([(y,x) for x,y in test_list])\n",
    "print (og_list)\n",
    "temp = [abs(b - a) for a,b in og_list] \n",
    "res = max(temp) \n",
    "print(str(res))"
   ]
  },
  {
   "cell_type": "code",
   "execution_count": 67,
   "metadata": {},
   "outputs": [
    {
     "name": "stdout",
     "output_type": "stream",
     "text": [
      "Hi, I am John Smith\n"
     ]
    }
   ],
   "source": [
    "class Person:\n",
    "    def __init__(self, name):\n",
    "        self.name=name\n",
    "    def talk(self):\n",
    "        print(f\"Hi, I am {self.name}\")\n",
    "jon = Person(\"John Smith\")\n",
    "jon.talk()"
   ]
  },
  {
   "cell_type": "code",
   "execution_count": 1,
   "metadata": {},
   "outputs": [
    {
     "name": "stdout",
     "output_type": "stream",
     "text": [
      "(6, 1)\n"
     ]
    }
   ],
   "source": [
    "import random\n",
    "class Dice:\n",
    "    def roll(self):\n",
    "        first = random.randint(1, 6)\n",
    "        second = random.randint(1, 6)\n",
    "        return first, second\n",
    "dice = Dice()\n",
    "print(dice.roll())"
   ]
  },
  {
   "cell_type": "code",
   "execution_count": 1,
   "metadata": {},
   "outputs": [
    {
     "data": {
      "text/plain": [
       "'C:\\\\Users\\\\LENOVO'"
      ]
     },
     "execution_count": 1,
     "metadata": {},
     "output_type": "execute_result"
    }
   ],
   "source": [
    "pwd"
   ]
  },
  {
   "cell_type": "code",
   "execution_count": 3,
   "metadata": {},
   "outputs": [
    {
     "name": "stdout",
     "output_type": "stream",
     "text": [
      "10\n",
      "30\n",
      "11\n",
      "23\n",
      "29\n"
     ]
    }
   ],
   "source": [
    "def singledigitsumprime(a,b):\n",
    "    for prime in range(a,b):\n",
    "        for i in range(2,prime//2):\n",
    "            if(prime%i==0):\n",
    "                break\n",
    "        else:\n",
    "            sum=Calculatesingledigitsum(prime)\n",
    "            if(sum==2 or sum==3 or sum==5 or sum==7):\n",
    "                print(prime)\n",
    "        \n",
    "        \n",
    "def Calculatesingledigitsum(num):\n",
    "    while(num>9):\n",
    "        sum=0\n",
    "        while(num>0):\n",
    "            r=num%10;\n",
    "            sum=sum+r\n",
    "            num=num//10\n",
    "        num=sum\n",
    "    return sum\n",
    "       \n",
    "       \n",
    "def main():\n",
    "    a=int(input())\n",
    "    b=int(input())\n",
    "    singledigitsumprime(a,b)\n",
    "if __name__ == \"__main__\":\n",
    "    main()"
   ]
  },
  {
   "cell_type": "code",
   "execution_count": 6,
   "metadata": {},
   "outputs": [
    {
     "name": "stdout",
     "output_type": "stream",
     "text": [
      "45\n",
      "75\n",
      "845\n",
      "invalid input\n",
      "45\n",
      "74\n",
      "75\n",
      "78\n",
      "79\n",
      "35\n",
      "Trainee 1 is unfit\n",
      "Trainee Number:  3\n"
     ]
    }
   ],
   "source": [
    "trainee = [[],[],[],[]]\n",
    "for i in range(3):\n",
    "\tfor j in range(3):\n",
    "    \t\ttrainee[i].append(int(input()))\n",
    "    \t\tif (trainee[i][-1]) not in range(1,101):\n",
    "        \t\t\tprint(\"invalid input\")\n",
    "for i in range(3):\n",
    "\ttrainee[3].append((trainee[2][i]+trainee[1][i]+trainee[0][i])//3)\n",
    "maximum = max(trainee[3])\n",
    "for i in range(3):\n",
    "\tif trainee[3][i] < 70 :\n",
    "    \t\tprint(\"Trainee {0} is unfit\".format(i+1))\n",
    "\telif trainee[3][i] == maximum:\n",
    "    \t\tprint(\"Trainee Number: \",i+1)"
   ]
  },
  {
   "cell_type": "code",
   "execution_count": 13,
   "metadata": {},
   "outputs": [
    {
     "name": "stdout",
     "output_type": "stream",
     "text": [
      "NI\n",
      "HA\n",
      "23.0 INR\n"
     ]
    }
   ],
   "source": [
    "import math\n",
    "def getFare(source,destination):\n",
    "    route=[ [ \"TH\", \"GA\", \"IC\", \"HA\", \"TE\", \"LU\", \"NI\", \"CA\"],\n",
    "    [800,600,750,900,1400,1200,1100,1500]\n",
    "        ]\n",
    "    if not(source in route[0] and destination in route[0]):\n",
    "        print(\"Invalid Input\")\n",
    "        exit()\n",
    "    fare=0\n",
    "    if(route[0].index(source)<route[0].index(destination)):\n",
    "        for i in range(route[0].index(source),route[0].index(destination)+1):\n",
    "            fare +=route[1][i]\n",
    "    elif(route[0].index(source)>route[0].index(destination)):\n",
    "        for i in range(route[0].index(source)+1,len(route[0])):\n",
    "            fare +=route[1][i]\n",
    "        for i in range(0,route[0].index(destination)+1):\n",
    "            fare +=route[1][i]\n",
    "    myfare=float(math.ceil(fare*0.005))\n",
    "    return myfare\n",
    "source=input()\n",
    "destination=input()\n",
    "fare=getFare(source,destination)\n",
    "if fare==0:\n",
    "    print(\"Invalid Input\")\n",
    "else:\n",
    "    print(fare,'INR')"
   ]
  },
  {
   "cell_type": "code",
   "execution_count": 12,
   "metadata": {},
   "outputs": [
    {
     "name": "stdout",
     "output_type": "stream",
     "text": [
      "3\n",
      "[98, 5, 31, 85, 60, 3, 7, 6, 98, 98, 98, 98]\n"
     ]
    }
   ],
   "source": [
    "def Nmaxelements(list1, N): \n",
    "    final_list = [] \n",
    "  \n",
    "    for i in range(0, N):  \n",
    "        max1 = 0\n",
    "          \n",
    "        for j in range(len(list1)):      \n",
    "            if list1[j] > max1: \n",
    "                max1 = list1[j]; \n",
    "                  \n",
    "        list1.remove(max1) \n",
    "        final_list.append(max1) \n",
    "          \n",
    "    print(final_list) \n",
    "\n",
    "list1 = [2, 6, 41, 85, 0, 3, 7, 6, 10] \n",
    "N = int(input())\n",
    "  \n",
    "Nmaxelements(list1, N) "
   ]
  },
  {
   "cell_type": "code",
   "execution_count": 29,
   "metadata": {},
   "outputs": [
    {
     "name": "stdout",
     "output_type": "stream",
     "text": [
      "3\n",
      "1\n",
      "2\n",
      "1\n",
      "True\n"
     ]
    }
   ],
   "source": [
    "# HCL TEST QUESTION\n",
    "def subsetSum(A, n, sum):\n",
    "    if sum == 0:\n",
    "        return True\n",
    "    if n < 0 or sum < 0:\n",
    "        return False\n",
    "    inc = subsetSum(A, n - 1, sum - A[n])\n",
    "    if inc:\n",
    "        return True\n",
    "    exc = subsetSum(A, n - 1, sum)\n",
    "    return exc\n",
    "\n",
    "def partition(A):\n",
    "    total = sum(A)\n",
    "    return (total & 1) == 0 and subsetSum(A, len(A) - 1, total/2)\n",
    "if __name__ == '__main__':\n",
    "    A = []\n",
    "    en=int(input())\n",
    "    for i in range(0, en):\n",
    "        item = int(input())\n",
    "        A.append(item)\n",
    " \n",
    "    print(partition(A))"
   ]
  },
  {
   "cell_type": "code",
   "execution_count": null,
   "metadata": {},
   "outputs": [],
   "source": []
  }
 ],
 "metadata": {
  "kernelspec": {
   "display_name": "Python 3",
   "language": "python",
   "name": "python3"
  },
  "language_info": {
   "codemirror_mode": {
    "name": "ipython",
    "version": 3
   },
   "file_extension": ".py",
   "mimetype": "text/x-python",
   "name": "python",
   "nbconvert_exporter": "python",
   "pygments_lexer": "ipython3",
   "version": "3.7.4"
  }
 },
 "nbformat": 4,
 "nbformat_minor": 2
}
